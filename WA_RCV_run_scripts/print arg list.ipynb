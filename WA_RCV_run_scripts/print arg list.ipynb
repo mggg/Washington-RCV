{
 "cells": [
  {
   "cell_type": "markdown",
   "metadata": {},
   "source": [
    "# Washington State\n"
   ]
  },
  {
   "cell_type": "code",
   "execution_count": 11,
   "metadata": {},
   "outputs": [],
   "source": [
    "polarization_triples = [\n",
    "    ['high', 0.95, 0.05],\n",
    "    ['high_alt', 0.90, 0.20],\n",
    "    ['medium', 0.75, 0.20],\n",
    "    ['low', 0.6, 0.4]\n",
    "]\n",
    "#cands order is #seats, #POC cands, #White cands for each candidate pool\n",
    "\n",
    "# cands = [(1,1,2),(1,2,2)]\n",
    "# city_tag = \"WA_1_seats\"\n",
    "# poc_cvaps = [i/100 for i in range(85)]\n",
    "\n",
    "# cands = [(2,1,2), (2,2,2)]\n",
    "# city_tag = \"WA_2_seats\"\n",
    "# poc_cvaps = [i/100 for i in range(65)]\n",
    "\n",
    "# cands = [(3,2,3), (3,3,3)]\n",
    "# city_tag = \"WA_3_seats\"\n",
    "# poc_cvaps = [i/100 for i in range(70)]\n",
    "\n",
    "# cands = [(5,3,5), (5,5,5)]\n",
    "# city_tag = \"WA_5_seats\"\n",
    "# poc_cvaps = [i/100 for i in range(65)]\n",
    "\n",
    "# cands = [(6,3,6), (6,6,6)]\n",
    "# city_tag = \"WA_6_seats\"\n",
    "# poc_cvaps = [i/100 for i in range(70)]\n",
    "\n",
    "cands = [(7,3,7), (7,7,7)]\n",
    "city_tag = \"WA_7_seats\"\n",
    "poc_cvaps = [i/100 for i in range(54)]\n",
    "\n",
    "\n",
    "race_tag = \"POC_CVAP\"\n",
    "\n"
   ]
  },
  {
   "cell_type": "code",
   "execution_count": 12,
   "metadata": {
    "scrolled": true
   },
   "outputs": [
    {
     "name": "stdout",
     "output_type": "stream",
     "text": [
      "WA_7_seats,POC_CVAP,high,0.0,0.95,0.05,7,3,7 WA_7_seats,POC_CVAP,high,0.01,0.95,0.05,7,3,7 WA_7_seats,POC_CVAP,high,0.02,0.95,0.05,7,3,7 WA_7_seats,POC_CVAP,high,0.03,0.95,0.05,7,3,7 WA_7_seats,POC_CVAP,high,0.04,0.95,0.05,7,3,7 WA_7_seats,POC_CVAP,high,0.05,0.95,0.05,7,3,7 WA_7_seats,POC_CVAP,high,0.06,0.95,0.05,7,3,7 WA_7_seats,POC_CVAP,high,0.07,0.95,0.05,7,3,7 WA_7_seats,POC_CVAP,high,0.08,0.95,0.05,7,3,7 WA_7_seats,POC_CVAP,high,0.09,0.95,0.05,7,3,7 WA_7_seats,POC_CVAP,high,0.1,0.95,0.05,7,3,7 WA_7_seats,POC_CVAP,high,0.11,0.95,0.05,7,3,7 WA_7_seats,POC_CVAP,high,0.12,0.95,0.05,7,3,7 WA_7_seats,POC_CVAP,high,0.13,0.95,0.05,7,3,7 WA_7_seats,POC_CVAP,high,0.14,0.95,0.05,7,3,7 WA_7_seats,POC_CVAP,high,0.15,0.95,0.05,7,3,7 WA_7_seats,POC_CVAP,high,0.16,0.95,0.05,7,3,7 WA_7_seats,POC_CVAP,high,0.17,0.95,0.05,7,3,7 WA_7_seats,POC_CVAP,high,0.18,0.95,0.05,7,3,7 WA_7_seats,POC_CVAP,high,0.19,0.95,0.05,7,3,7 WA_7_seats,POC_CVAP,high,0.2,0.95,0.05,7,3,7 WA_7_seats,POC_CVAP,high,0.21,0.95,0.05,7,3,7 WA_7_seats,POC_CVAP,high,0.22,0.95,0.05,7,3,7 WA_7_seats,POC_CVAP,high,0.23,0.95,0.05,7,3,7 WA_7_seats,POC_CVAP,high,0.24,0.95,0.05,7,3,7 WA_7_seats,POC_CVAP,high,0.25,0.95,0.05,7,3,7 WA_7_seats,POC_CVAP,high,0.26,0.95,0.05,7,3,7 WA_7_seats,POC_CVAP,high,0.27,0.95,0.05,7,3,7 WA_7_seats,POC_CVAP,high,0.28,0.95,0.05,7,3,7 WA_7_seats,POC_CVAP,high,0.29,0.95,0.05,7,3,7 WA_7_seats,POC_CVAP,high,0.3,0.95,0.05,7,3,7 WA_7_seats,POC_CVAP,high,0.31,0.95,0.05,7,3,7 WA_7_seats,POC_CVAP,high,0.32,0.95,0.05,7,3,7 WA_7_seats,POC_CVAP,high,0.33,0.95,0.05,7,3,7 WA_7_seats,POC_CVAP,high,0.34,0.95,0.05,7,3,7 WA_7_seats,POC_CVAP,high,0.35,0.95,0.05,7,3,7 WA_7_seats,POC_CVAP,high,0.36,0.95,0.05,7,3,7 WA_7_seats,POC_CVAP,high,0.37,0.95,0.05,7,3,7 WA_7_seats,POC_CVAP,high,0.38,0.95,0.05,7,3,7 WA_7_seats,POC_CVAP,high,0.39,0.95,0.05,7,3,7 WA_7_seats,POC_CVAP,high,0.4,0.95,0.05,7,3,7 WA_7_seats,POC_CVAP,high,0.41,0.95,0.05,7,3,7 WA_7_seats,POC_CVAP,high,0.42,0.95,0.05,7,3,7 WA_7_seats,POC_CVAP,high,0.43,0.95,0.05,7,3,7 WA_7_seats,POC_CVAP,high,0.44,0.95,0.05,7,3,7 WA_7_seats,POC_CVAP,high,0.45,0.95,0.05,7,3,7 WA_7_seats,POC_CVAP,high,0.46,0.95,0.05,7,3,7 WA_7_seats,POC_CVAP,high,0.47,0.95,0.05,7,3,7 WA_7_seats,POC_CVAP,high,0.48,0.95,0.05,7,3,7 WA_7_seats,POC_CVAP,high,0.49,0.95,0.05,7,3,7 WA_7_seats,POC_CVAP,high,0.5,0.95,0.05,7,3,7 WA_7_seats,POC_CVAP,high,0.51,0.95,0.05,7,3,7 WA_7_seats,POC_CVAP,high,0.52,0.95,0.05,7,3,7 WA_7_seats,POC_CVAP,high,0.53,0.95,0.05,7,3,7 WA_7_seats,POC_CVAP,high,0.0,0.95,0.05,7,7,7 WA_7_seats,POC_CVAP,high,0.01,0.95,0.05,7,7,7 WA_7_seats,POC_CVAP,high,0.02,0.95,0.05,7,7,7 WA_7_seats,POC_CVAP,high,0.03,0.95,0.05,7,7,7 WA_7_seats,POC_CVAP,high,0.04,0.95,0.05,7,7,7 WA_7_seats,POC_CVAP,high,0.05,0.95,0.05,7,7,7 WA_7_seats,POC_CVAP,high,0.06,0.95,0.05,7,7,7 WA_7_seats,POC_CVAP,high,0.07,0.95,0.05,7,7,7 WA_7_seats,POC_CVAP,high,0.08,0.95,0.05,7,7,7 WA_7_seats,POC_CVAP,high,0.09,0.95,0.05,7,7,7 WA_7_seats,POC_CVAP,high,0.1,0.95,0.05,7,7,7 WA_7_seats,POC_CVAP,high,0.11,0.95,0.05,7,7,7 WA_7_seats,POC_CVAP,high,0.12,0.95,0.05,7,7,7 WA_7_seats,POC_CVAP,high,0.13,0.95,0.05,7,7,7 WA_7_seats,POC_CVAP,high,0.14,0.95,0.05,7,7,7 WA_7_seats,POC_CVAP,high,0.15,0.95,0.05,7,7,7 WA_7_seats,POC_CVAP,high,0.16,0.95,0.05,7,7,7 WA_7_seats,POC_CVAP,high,0.17,0.95,0.05,7,7,7 WA_7_seats,POC_CVAP,high,0.18,0.95,0.05,7,7,7 WA_7_seats,POC_CVAP,high,0.19,0.95,0.05,7,7,7 WA_7_seats,POC_CVAP,high,0.2,0.95,0.05,7,7,7 WA_7_seats,POC_CVAP,high,0.21,0.95,0.05,7,7,7 WA_7_seats,POC_CVAP,high,0.22,0.95,0.05,7,7,7 WA_7_seats,POC_CVAP,high,0.23,0.95,0.05,7,7,7 WA_7_seats,POC_CVAP,high,0.24,0.95,0.05,7,7,7 WA_7_seats,POC_CVAP,high,0.25,0.95,0.05,7,7,7 WA_7_seats,POC_CVAP,high,0.26,0.95,0.05,7,7,7 WA_7_seats,POC_CVAP,high,0.27,0.95,0.05,7,7,7 WA_7_seats,POC_CVAP,high,0.28,0.95,0.05,7,7,7 WA_7_seats,POC_CVAP,high,0.29,0.95,0.05,7,7,7 WA_7_seats,POC_CVAP,high,0.3,0.95,0.05,7,7,7 WA_7_seats,POC_CVAP,high,0.31,0.95,0.05,7,7,7 WA_7_seats,POC_CVAP,high,0.32,0.95,0.05,7,7,7 WA_7_seats,POC_CVAP,high,0.33,0.95,0.05,7,7,7 WA_7_seats,POC_CVAP,high,0.34,0.95,0.05,7,7,7 WA_7_seats,POC_CVAP,high,0.35,0.95,0.05,7,7,7 WA_7_seats,POC_CVAP,high,0.36,0.95,0.05,7,7,7 WA_7_seats,POC_CVAP,high,0.37,0.95,0.05,7,7,7 WA_7_seats,POC_CVAP,high,0.38,0.95,0.05,7,7,7 WA_7_seats,POC_CVAP,high,0.39,0.95,0.05,7,7,7 WA_7_seats,POC_CVAP,high,0.4,0.95,0.05,7,7,7 WA_7_seats,POC_CVAP,high,0.41,0.95,0.05,7,7,7 WA_7_seats,POC_CVAP,high,0.42,0.95,0.05,7,7,7 WA_7_seats,POC_CVAP,high,0.43,0.95,0.05,7,7,7 WA_7_seats,POC_CVAP,high,0.44,0.95,0.05,7,7,7 WA_7_seats,POC_CVAP,high,0.45,0.95,0.05,7,7,7 WA_7_seats,POC_CVAP,high,0.46,0.95,0.05,7,7,7 WA_7_seats,POC_CVAP,high,0.47,0.95,0.05,7,7,7 WA_7_seats,POC_CVAP,high,0.48,0.95,0.05,7,7,7 WA_7_seats,POC_CVAP,high,0.49,0.95,0.05,7,7,7 WA_7_seats,POC_CVAP,high,0.5,0.95,0.05,7,7,7 WA_7_seats,POC_CVAP,high,0.51,0.95,0.05,7,7,7 WA_7_seats,POC_CVAP,high,0.52,0.95,0.05,7,7,7 WA_7_seats,POC_CVAP,high,0.53,0.95,0.05,7,7,7 WA_7_seats,POC_CVAP,high_alt,0.0,0.9,0.2,7,3,7 WA_7_seats,POC_CVAP,high_alt,0.01,0.9,0.2,7,3,7 WA_7_seats,POC_CVAP,high_alt,0.02,0.9,0.2,7,3,7 WA_7_seats,POC_CVAP,high_alt,0.03,0.9,0.2,7,3,7 WA_7_seats,POC_CVAP,high_alt,0.04,0.9,0.2,7,3,7 WA_7_seats,POC_CVAP,high_alt,0.05,0.9,0.2,7,3,7 WA_7_seats,POC_CVAP,high_alt,0.06,0.9,0.2,7,3,7 WA_7_seats,POC_CVAP,high_alt,0.07,0.9,0.2,7,3,7 WA_7_seats,POC_CVAP,high_alt,0.08,0.9,0.2,7,3,7 WA_7_seats,POC_CVAP,high_alt,0.09,0.9,0.2,7,3,7 WA_7_seats,POC_CVAP,high_alt,0.1,0.9,0.2,7,3,7 WA_7_seats,POC_CVAP,high_alt,0.11,0.9,0.2,7,3,7 WA_7_seats,POC_CVAP,high_alt,0.12,0.9,0.2,7,3,7 WA_7_seats,POC_CVAP,high_alt,0.13,0.9,0.2,7,3,7 WA_7_seats,POC_CVAP,high_alt,0.14,0.9,0.2,7,3,7 WA_7_seats,POC_CVAP,high_alt,0.15,0.9,0.2,7,3,7 WA_7_seats,POC_CVAP,high_alt,0.16,0.9,0.2,7,3,7 WA_7_seats,POC_CVAP,high_alt,0.17,0.9,0.2,7,3,7 WA_7_seats,POC_CVAP,high_alt,0.18,0.9,0.2,7,3,7 WA_7_seats,POC_CVAP,high_alt,0.19,0.9,0.2,7,3,7 WA_7_seats,POC_CVAP,high_alt,0.2,0.9,0.2,7,3,7 WA_7_seats,POC_CVAP,high_alt,0.21,0.9,0.2,7,3,7 WA_7_seats,POC_CVAP,high_alt,0.22,0.9,0.2,7,3,7 WA_7_seats,POC_CVAP,high_alt,0.23,0.9,0.2,7,3,7 WA_7_seats,POC_CVAP,high_alt,0.24,0.9,0.2,7,3,7 WA_7_seats,POC_CVAP,high_alt,0.25,0.9,0.2,7,3,7 WA_7_seats,POC_CVAP,high_alt,0.26,0.9,0.2,7,3,7 WA_7_seats,POC_CVAP,high_alt,0.27,0.9,0.2,7,3,7 WA_7_seats,POC_CVAP,high_alt,0.28,0.9,0.2,7,3,7 WA_7_seats,POC_CVAP,high_alt,0.29,0.9,0.2,7,3,7 WA_7_seats,POC_CVAP,high_alt,0.3,0.9,0.2,7,3,7 WA_7_seats,POC_CVAP,high_alt,0.31,0.9,0.2,7,3,7 WA_7_seats,POC_CVAP,high_alt,0.32,0.9,0.2,7,3,7 WA_7_seats,POC_CVAP,high_alt,0.33,0.9,0.2,7,3,7 WA_7_seats,POC_CVAP,high_alt,0.34,0.9,0.2,7,3,7 WA_7_seats,POC_CVAP,high_alt,0.35,0.9,0.2,7,3,7 WA_7_seats,POC_CVAP,high_alt,0.36,0.9,0.2,7,3,7 WA_7_seats,POC_CVAP,high_alt,0.37,0.9,0.2,7,3,7 WA_7_seats,POC_CVAP,high_alt,0.38,0.9,0.2,7,3,7 WA_7_seats,POC_CVAP,high_alt,0.39,0.9,0.2,7,3,7 WA_7_seats,POC_CVAP,high_alt,0.4,0.9,0.2,7,3,7 WA_7_seats,POC_CVAP,high_alt,0.41,0.9,0.2,7,3,7 WA_7_seats,POC_CVAP,high_alt,0.42,0.9,0.2,7,3,7 WA_7_seats,POC_CVAP,high_alt,0.43,0.9,0.2,7,3,7 WA_7_seats,POC_CVAP,high_alt,0.44,0.9,0.2,7,3,7 WA_7_seats,POC_CVAP,high_alt,0.45,0.9,0.2,7,3,7 WA_7_seats,POC_CVAP,high_alt,0.46,0.9,0.2,7,3,7 WA_7_seats,POC_CVAP,high_alt,0.47,0.9,0.2,7,3,7 WA_7_seats,POC_CVAP,high_alt,0.48,0.9,0.2,7,3,7 WA_7_seats,POC_CVAP,high_alt,0.49,0.9,0.2,7,3,7 WA_7_seats,POC_CVAP,high_alt,0.5,0.9,0.2,7,3,7 WA_7_seats,POC_CVAP,high_alt,0.51,0.9,0.2,7,3,7 WA_7_seats,POC_CVAP,high_alt,0.52,0.9,0.2,7,3,7 WA_7_seats,POC_CVAP,high_alt,0.53,0.9,0.2,7,3,7 WA_7_seats,POC_CVAP,high_alt,0.0,0.9,0.2,7,7,7 WA_7_seats,POC_CVAP,high_alt,0.01,0.9,0.2,7,7,7 WA_7_seats,POC_CVAP,high_alt,0.02,0.9,0.2,7,7,7 WA_7_seats,POC_CVAP,high_alt,0.03,0.9,0.2,7,7,7 WA_7_seats,POC_CVAP,high_alt,0.04,0.9,0.2,7,7,7 WA_7_seats,POC_CVAP,high_alt,0.05,0.9,0.2,7,7,7 WA_7_seats,POC_CVAP,high_alt,0.06,0.9,0.2,7,7,7 WA_7_seats,POC_CVAP,high_alt,0.07,0.9,0.2,7,7,7 WA_7_seats,POC_CVAP,high_alt,0.08,0.9,0.2,7,7,7 WA_7_seats,POC_CVAP,high_alt,0.09,0.9,0.2,7,7,7 WA_7_seats,POC_CVAP,high_alt,0.1,0.9,0.2,7,7,7 WA_7_seats,POC_CVAP,high_alt,0.11,0.9,0.2,7,7,7 WA_7_seats,POC_CVAP,high_alt,0.12,0.9,0.2,7,7,7 WA_7_seats,POC_CVAP,high_alt,0.13,0.9,0.2,7,7,7 WA_7_seats,POC_CVAP,high_alt,0.14,0.9,0.2,7,7,7 WA_7_seats,POC_CVAP,high_alt,0.15,0.9,0.2,7,7,7 WA_7_seats,POC_CVAP,high_alt,0.16,0.9,0.2,7,7,7 WA_7_seats,POC_CVAP,high_alt,0.17,0.9,0.2,7,7,7 WA_7_seats,POC_CVAP,high_alt,0.18,0.9,0.2,7,7,7 WA_7_seats,POC_CVAP,high_alt,0.19,0.9,0.2,7,7,7 WA_7_seats,POC_CVAP,high_alt,0.2,0.9,0.2,7,7,7 WA_7_seats,POC_CVAP,high_alt,0.21,0.9,0.2,7,7,7 WA_7_seats,POC_CVAP,high_alt,0.22,0.9,0.2,7,7,7 WA_7_seats,POC_CVAP,high_alt,0.23,0.9,0.2,7,7,7 WA_7_seats,POC_CVAP,high_alt,0.24,0.9,0.2,7,7,7 WA_7_seats,POC_CVAP,high_alt,0.25,0.9,0.2,7,7,7 WA_7_seats,POC_CVAP,high_alt,0.26,0.9,0.2,7,7,7 WA_7_seats,POC_CVAP,high_alt,0.27,0.9,0.2,7,7,7 WA_7_seats,POC_CVAP,high_alt,0.28,0.9,0.2,7,7,7 WA_7_seats,POC_CVAP,high_alt,0.29,0.9,0.2,7,7,7 WA_7_seats,POC_CVAP,high_alt,0.3,0.9,0.2,7,7,7 WA_7_seats,POC_CVAP,high_alt,0.31,0.9,0.2,7,7,7 WA_7_seats,POC_CVAP,high_alt,0.32,0.9,0.2,7,7,7 WA_7_seats,POC_CVAP,high_alt,0.33,0.9,0.2,7,7,7 WA_7_seats,POC_CVAP,high_alt,0.34,0.9,0.2,7,7,7 WA_7_seats,POC_CVAP,high_alt,0.35,0.9,0.2,7,7,7 WA_7_seats,POC_CVAP,high_alt,0.36,0.9,0.2,7,7,7 WA_7_seats,POC_CVAP,high_alt,0.37,0.9,0.2,7,7,7 WA_7_seats,POC_CVAP,high_alt,0.38,0.9,0.2,7,7,7 WA_7_seats,POC_CVAP,high_alt,0.39,0.9,0.2,7,7,7 WA_7_seats,POC_CVAP,high_alt,0.4,0.9,0.2,7,7,7 WA_7_seats,POC_CVAP,high_alt,0.41,0.9,0.2,7,7,7 WA_7_seats,POC_CVAP,high_alt,0.42,0.9,0.2,7,7,7 WA_7_seats,POC_CVAP,high_alt,0.43,0.9,0.2,7,7,7 WA_7_seats,POC_CVAP,high_alt,0.44,0.9,0.2,7,7,7 WA_7_seats,POC_CVAP,high_alt,0.45,0.9,0.2,7,7,7 WA_7_seats,POC_CVAP,high_alt,0.46,0.9,0.2,7,7,7 WA_7_seats,POC_CVAP,high_alt,0.47,0.9,0.2,7,7,7 WA_7_seats,POC_CVAP,high_alt,0.48,0.9,0.2,7,7,7 WA_7_seats,POC_CVAP,high_alt,0.49,0.9,0.2,7,7,7 WA_7_seats,POC_CVAP,high_alt,0.5,0.9,0.2,7,7,7 WA_7_seats,POC_CVAP,high_alt,0.51,0.9,0.2,7,7,7 WA_7_seats,POC_CVAP,high_alt,0.52,0.9,0.2,7,7,7 WA_7_seats,POC_CVAP,high_alt,0.53,0.9,0.2,7,7,7 WA_7_seats,POC_CVAP,medium,0.0,0.75,0.2,7,3,7 WA_7_seats,POC_CVAP,medium,0.01,0.75,0.2,7,3,7 WA_7_seats,POC_CVAP,medium,0.02,0.75,0.2,7,3,7 WA_7_seats,POC_CVAP,medium,0.03,0.75,0.2,7,3,7 WA_7_seats,POC_CVAP,medium,0.04,0.75,0.2,7,3,7 WA_7_seats,POC_CVAP,medium,0.05,0.75,0.2,7,3,7 WA_7_seats,POC_CVAP,medium,0.06,0.75,0.2,7,3,7 WA_7_seats,POC_CVAP,medium,0.07,0.75,0.2,7,3,7 WA_7_seats,POC_CVAP,medium,0.08,0.75,0.2,7,3,7 WA_7_seats,POC_CVAP,medium,0.09,0.75,0.2,7,3,7 WA_7_seats,POC_CVAP,medium,0.1,0.75,0.2,7,3,7 WA_7_seats,POC_CVAP,medium,0.11,0.75,0.2,7,3,7 WA_7_seats,POC_CVAP,medium,0.12,0.75,0.2,7,3,7 WA_7_seats,POC_CVAP,medium,0.13,0.75,0.2,7,3,7 WA_7_seats,POC_CVAP,medium,0.14,0.75,0.2,7,3,7 WA_7_seats,POC_CVAP,medium,0.15,0.75,0.2,7,3,7 WA_7_seats,POC_CVAP,medium,0.16,0.75,0.2,7,3,7 WA_7_seats,POC_CVAP,medium,0.17,0.75,0.2,7,3,7 WA_7_seats,POC_CVAP,medium,0.18,0.75,0.2,7,3,7 WA_7_seats,POC_CVAP,medium,0.19,0.75,0.2,7,3,7 WA_7_seats,POC_CVAP,medium,0.2,0.75,0.2,7,3,7 WA_7_seats,POC_CVAP,medium,0.21,0.75,0.2,7,3,7 WA_7_seats,POC_CVAP,medium,0.22,0.75,0.2,7,3,7 WA_7_seats,POC_CVAP,medium,0.23,0.75,0.2,7,3,7 WA_7_seats,POC_CVAP,medium,0.24,0.75,0.2,7,3,7 WA_7_seats,POC_CVAP,medium,0.25,0.75,0.2,7,3,7 WA_7_seats,POC_CVAP,medium,0.26,0.75,0.2,7,3,7 WA_7_seats,POC_CVAP,medium,0.27,0.75,0.2,7,3,7 WA_7_seats,POC_CVAP,medium,0.28,0.75,0.2,7,3,7 WA_7_seats,POC_CVAP,medium,0.29,0.75,0.2,7,3,7 WA_7_seats,POC_CVAP,medium,0.3,0.75,0.2,7,3,7 WA_7_seats,POC_CVAP,medium,0.31,0.75,0.2,7,3,7 WA_7_seats,POC_CVAP,medium,0.32,0.75,0.2,7,3,7 WA_7_seats,POC_CVAP,medium,0.33,0.75,0.2,7,3,7 WA_7_seats,POC_CVAP,medium,0.34,0.75,0.2,7,3,7 WA_7_seats,POC_CVAP,medium,0.35,0.75,0.2,7,3,7 WA_7_seats,POC_CVAP,medium,0.36,0.75,0.2,7,3,7 WA_7_seats,POC_CVAP,medium,0.37,0.75,0.2,7,3,7 WA_7_seats,POC_CVAP,medium,0.38,0.75,0.2,7,3,7 WA_7_seats,POC_CVAP,medium,0.39,0.75,0.2,7,3,7 WA_7_seats,POC_CVAP,medium,0.4,0.75,0.2,7,3,7 WA_7_seats,POC_CVAP,medium,0.41,0.75,0.2,7,3,7 WA_7_seats,POC_CVAP,medium,0.42,0.75,0.2,7,3,7 WA_7_seats,POC_CVAP,medium,0.43,0.75,0.2,7,3,7 WA_7_seats,POC_CVAP,medium,0.44,0.75,0.2,7,3,7 WA_7_seats,POC_CVAP,medium,0.45,0.75,0.2,7,3,7 WA_7_seats,POC_CVAP,medium,0.46,0.75,0.2,7,3,7 WA_7_seats,POC_CVAP,medium,0.47,0.75,0.2,7,3,7 WA_7_seats,POC_CVAP,medium,0.48,0.75,0.2,7,3,7 WA_7_seats,POC_CVAP,medium,0.49,0.75,0.2,7,3,7 WA_7_seats,POC_CVAP,medium,0.5,0.75,0.2,7,3,7 WA_7_seats,POC_CVAP,medium,0.51,0.75,0.2,7,3,7 WA_7_seats,POC_CVAP,medium,0.52,0.75,0.2,7,3,7 WA_7_seats,POC_CVAP,medium,0.53,0.75,0.2,7,3,7 WA_7_seats,POC_CVAP,medium,0.0,0.75,0.2,7,7,7 WA_7_seats,POC_CVAP,medium,0.01,0.75,0.2,7,7,7 WA_7_seats,POC_CVAP,medium,0.02,0.75,0.2,7,7,7 WA_7_seats,POC_CVAP,medium,0.03,0.75,0.2,7,7,7 WA_7_seats,POC_CVAP,medium,0.04,0.75,0.2,7,7,7 WA_7_seats,POC_CVAP,medium,0.05,0.75,0.2,7,7,7 WA_7_seats,POC_CVAP,medium,0.06,0.75,0.2,7,7,7 WA_7_seats,POC_CVAP,medium,0.07,0.75,0.2,7,7,7 WA_7_seats,POC_CVAP,medium,0.08,0.75,0.2,7,7,7 WA_7_seats,POC_CVAP,medium,0.09,0.75,0.2,7,7,7 WA_7_seats,POC_CVAP,medium,0.1,0.75,0.2,7,7,7 WA_7_seats,POC_CVAP,medium,0.11,0.75,0.2,7,7,7 WA_7_seats,POC_CVAP,medium,0.12,0.75,0.2,7,7,7 WA_7_seats,POC_CVAP,medium,0.13,0.75,0.2,7,7,7 WA_7_seats,POC_CVAP,medium,0.14,0.75,0.2,7,7,7 WA_7_seats,POC_CVAP,medium,0.15,0.75,0.2,7,7,7 WA_7_seats,POC_CVAP,medium,0.16,0.75,0.2,7,7,7 WA_7_seats,POC_CVAP,medium,0.17,0.75,0.2,7,7,7 WA_7_seats,POC_CVAP,medium,0.18,0.75,0.2,7,7,7 WA_7_seats,POC_CVAP,medium,0.19,0.75,0.2,7,7,7 WA_7_seats,POC_CVAP,medium,0.2,0.75,0.2,7,7,7 WA_7_seats,POC_CVAP,medium,0.21,0.75,0.2,7,7,7 WA_7_seats,POC_CVAP,medium,0.22,0.75,0.2,7,7,7 WA_7_seats,POC_CVAP,medium,0.23,0.75,0.2,7,7,7 WA_7_seats,POC_CVAP,medium,0.24,0.75,0.2,7,7,7 WA_7_seats,POC_CVAP,medium,0.25,0.75,0.2,7,7,7 WA_7_seats,POC_CVAP,medium,0.26,0.75,0.2,7,7,7 WA_7_seats,POC_CVAP,medium,0.27,0.75,0.2,7,7,7 WA_7_seats,POC_CVAP,medium,0.28,0.75,0.2,7,7,7 WA_7_seats,POC_CVAP,medium,0.29,0.75,0.2,7,7,7 WA_7_seats,POC_CVAP,medium,0.3,0.75,0.2,7,7,7 WA_7_seats,POC_CVAP,medium,0.31,0.75,0.2,7,7,7 WA_7_seats,POC_CVAP,medium,0.32,0.75,0.2,7,7,7 WA_7_seats,POC_CVAP,medium,0.33,0.75,0.2,7,7,7 WA_7_seats,POC_CVAP,medium,0.34,0.75,0.2,7,7,7 WA_7_seats,POC_CVAP,medium,0.35,0.75,0.2,7,7,7 WA_7_seats,POC_CVAP,medium,0.36,0.75,0.2,7,7,7 WA_7_seats,POC_CVAP,medium,0.37,0.75,0.2,7,7,7 WA_7_seats,POC_CVAP,medium,0.38,0.75,0.2,7,7,7 WA_7_seats,POC_CVAP,medium,0.39,0.75,0.2,7,7,7 WA_7_seats,POC_CVAP,medium,0.4,0.75,0.2,7,7,7 WA_7_seats,POC_CVAP,medium,0.41,0.75,0.2,7,7,7 WA_7_seats,POC_CVAP,medium,0.42,0.75,0.2,7,7,7 WA_7_seats,POC_CVAP,medium,0.43,0.75,0.2,7,7,7 WA_7_seats,POC_CVAP,medium,0.44,0.75,0.2,7,7,7 WA_7_seats,POC_CVAP,medium,0.45,0.75,0.2,7,7,7 WA_7_seats,POC_CVAP,medium,0.46,0.75,0.2,7,7,7 WA_7_seats,POC_CVAP,medium,0.47,0.75,0.2,7,7,7 WA_7_seats,POC_CVAP,medium,0.48,0.75,0.2,7,7,7 WA_7_seats,POC_CVAP,medium,0.49,0.75,0.2,7,7,7 WA_7_seats,POC_CVAP,medium,0.5,0.75,0.2,7,7,7 WA_7_seats,POC_CVAP,medium,0.51,0.75,0.2,7,7,7 WA_7_seats,POC_CVAP,medium,0.52,0.75,0.2,7,7,7 WA_7_seats,POC_CVAP,medium,0.53,0.75,0.2,7,7,7 WA_7_seats,POC_CVAP,low,0.0,0.6,0.4,7,3,7 WA_7_seats,POC_CVAP,low,0.01,0.6,0.4,7,3,7 WA_7_seats,POC_CVAP,low,0.02,0.6,0.4,7,3,7 WA_7_seats,POC_CVAP,low,0.03,0.6,0.4,7,3,7 WA_7_seats,POC_CVAP,low,0.04,0.6,0.4,7,3,7 WA_7_seats,POC_CVAP,low,0.05,0.6,0.4,7,3,7 WA_7_seats,POC_CVAP,low,0.06,0.6,0.4,7,3,7 WA_7_seats,POC_CVAP,low,0.07,0.6,0.4,7,3,7 WA_7_seats,POC_CVAP,low,0.08,0.6,0.4,7,3,7 WA_7_seats,POC_CVAP,low,0.09,0.6,0.4,7,3,7 WA_7_seats,POC_CVAP,low,0.1,0.6,0.4,7,3,7 WA_7_seats,POC_CVAP,low,0.11,0.6,0.4,7,3,7 WA_7_seats,POC_CVAP,low,0.12,0.6,0.4,7,3,7 WA_7_seats,POC_CVAP,low,0.13,0.6,0.4,7,3,7 WA_7_seats,POC_CVAP,low,0.14,0.6,0.4,7,3,7 WA_7_seats,POC_CVAP,low,0.15,0.6,0.4,7,3,7 WA_7_seats,POC_CVAP,low,0.16,0.6,0.4,7,3,7 WA_7_seats,POC_CVAP,low,0.17,0.6,0.4,7,3,7 WA_7_seats,POC_CVAP,low,0.18,0.6,0.4,7,3,7 WA_7_seats,POC_CVAP,low,0.19,0.6,0.4,7,3,7 WA_7_seats,POC_CVAP,low,0.2,0.6,0.4,7,3,7 WA_7_seats,POC_CVAP,low,0.21,0.6,0.4,7,3,7 WA_7_seats,POC_CVAP,low,0.22,0.6,0.4,7,3,7 WA_7_seats,POC_CVAP,low,0.23,0.6,0.4,7,3,7 WA_7_seats,POC_CVAP,low,0.24,0.6,0.4,7,3,7 WA_7_seats,POC_CVAP,low,0.25,0.6,0.4,7,3,7 WA_7_seats,POC_CVAP,low,0.26,0.6,0.4,7,3,7 WA_7_seats,POC_CVAP,low,0.27,0.6,0.4,7,3,7 WA_7_seats,POC_CVAP,low,0.28,0.6,0.4,7,3,7 WA_7_seats,POC_CVAP,low,0.29,0.6,0.4,7,3,7 WA_7_seats,POC_CVAP,low,0.3,0.6,0.4,7,3,7 WA_7_seats,POC_CVAP,low,0.31,0.6,0.4,7,3,7 WA_7_seats,POC_CVAP,low,0.32,0.6,0.4,7,3,7 WA_7_seats,POC_CVAP,low,0.33,0.6,0.4,7,3,7 WA_7_seats,POC_CVAP,low,0.34,0.6,0.4,7,3,7 WA_7_seats,POC_CVAP,low,0.35,0.6,0.4,7,3,7 WA_7_seats,POC_CVAP,low,0.36,0.6,0.4,7,3,7 WA_7_seats,POC_CVAP,low,0.37,0.6,0.4,7,3,7 WA_7_seats,POC_CVAP,low,0.38,0.6,0.4,7,3,7 WA_7_seats,POC_CVAP,low,0.39,0.6,0.4,7,3,7 WA_7_seats,POC_CVAP,low,0.4,0.6,0.4,7,3,7 WA_7_seats,POC_CVAP,low,0.41,0.6,0.4,7,3,7 WA_7_seats,POC_CVAP,low,0.42,0.6,0.4,7,3,7 WA_7_seats,POC_CVAP,low,0.43,0.6,0.4,7,3,7 WA_7_seats,POC_CVAP,low,0.44,0.6,0.4,7,3,7 WA_7_seats,POC_CVAP,low,0.45,0.6,0.4,7,3,7 WA_7_seats,POC_CVAP,low,0.46,0.6,0.4,7,3,7 WA_7_seats,POC_CVAP,low,0.47,0.6,0.4,7,3,7 WA_7_seats,POC_CVAP,low,0.48,0.6,0.4,7,3,7 WA_7_seats,POC_CVAP,low,0.49,0.6,0.4,7,3,7 WA_7_seats,POC_CVAP,low,0.5,0.6,0.4,7,3,7 WA_7_seats,POC_CVAP,low,0.51,0.6,0.4,7,3,7 WA_7_seats,POC_CVAP,low,0.52,0.6,0.4,7,3,7 WA_7_seats,POC_CVAP,low,0.53,0.6,0.4,7,3,7 WA_7_seats,POC_CVAP,low,0.0,0.6,0.4,7,7,7 WA_7_seats,POC_CVAP,low,0.01,0.6,0.4,7,7,7 WA_7_seats,POC_CVAP,low,0.02,0.6,0.4,7,7,7 WA_7_seats,POC_CVAP,low,0.03,0.6,0.4,7,7,7 WA_7_seats,POC_CVAP,low,0.04,0.6,0.4,7,7,7 WA_7_seats,POC_CVAP,low,0.05,0.6,0.4,7,7,7 WA_7_seats,POC_CVAP,low,0.06,0.6,0.4,7,7,7 WA_7_seats,POC_CVAP,low,0.07,0.6,0.4,7,7,7 WA_7_seats,POC_CVAP,low,0.08,0.6,0.4,7,7,7 WA_7_seats,POC_CVAP,low,0.09,0.6,0.4,7,7,7 WA_7_seats,POC_CVAP,low,0.1,0.6,0.4,7,7,7 WA_7_seats,POC_CVAP,low,0.11,0.6,0.4,7,7,7 WA_7_seats,POC_CVAP,low,0.12,0.6,0.4,7,7,7 WA_7_seats,POC_CVAP,low,0.13,0.6,0.4,7,7,7 WA_7_seats,POC_CVAP,low,0.14,0.6,0.4,7,7,7 WA_7_seats,POC_CVAP,low,0.15,0.6,0.4,7,7,7 WA_7_seats,POC_CVAP,low,0.16,0.6,0.4,7,7,7 WA_7_seats,POC_CVAP,low,0.17,0.6,0.4,7,7,7 WA_7_seats,POC_CVAP,low,0.18,0.6,0.4,7,7,7 WA_7_seats,POC_CVAP,low,0.19,0.6,0.4,7,7,7 WA_7_seats,POC_CVAP,low,0.2,0.6,0.4,7,7,7 WA_7_seats,POC_CVAP,low,0.21,0.6,0.4,7,7,7 WA_7_seats,POC_CVAP,low,0.22,0.6,0.4,7,7,7 WA_7_seats,POC_CVAP,low,0.23,0.6,0.4,7,7,7 WA_7_seats,POC_CVAP,low,0.24,0.6,0.4,7,7,7 WA_7_seats,POC_CVAP,low,0.25,0.6,0.4,7,7,7 WA_7_seats,POC_CVAP,low,0.26,0.6,0.4,7,7,7 WA_7_seats,POC_CVAP,low,0.27,0.6,0.4,7,7,7 WA_7_seats,POC_CVAP,low,0.28,0.6,0.4,7,7,7 WA_7_seats,POC_CVAP,low,0.29,0.6,0.4,7,7,7 WA_7_seats,POC_CVAP,low,0.3,0.6,0.4,7,7,7 WA_7_seats,POC_CVAP,low,0.31,0.6,0.4,7,7,7 WA_7_seats,POC_CVAP,low,0.32,0.6,0.4,7,7,7 WA_7_seats,POC_CVAP,low,0.33,0.6,0.4,7,7,7 WA_7_seats,POC_CVAP,low,0.34,0.6,0.4,7,7,7 WA_7_seats,POC_CVAP,low,0.35,0.6,0.4,7,7,7 WA_7_seats,POC_CVAP,low,0.36,0.6,0.4,7,7,7 WA_7_seats,POC_CVAP,low,0.37,0.6,0.4,7,7,7 WA_7_seats,POC_CVAP,low,0.38,0.6,0.4,7,7,7 WA_7_seats,POC_CVAP,low,0.39,0.6,0.4,7,7,7 WA_7_seats,POC_CVAP,low,0.4,0.6,0.4,7,7,7 WA_7_seats,POC_CVAP,low,0.41,0.6,0.4,7,7,7 WA_7_seats,POC_CVAP,low,0.42,0.6,0.4,7,7,7 WA_7_seats,POC_CVAP,low,0.43,0.6,0.4,7,7,7 WA_7_seats,POC_CVAP,low,0.44,0.6,0.4,7,7,7 WA_7_seats,POC_CVAP,low,0.45,0.6,0.4,7,7,7 WA_7_seats,POC_CVAP,low,0.46,0.6,0.4,7,7,7 WA_7_seats,POC_CVAP,low,0.47,0.6,0.4,7,7,7 WA_7_seats,POC_CVAP,low,0.48,0.6,0.4,7,7,7 WA_7_seats,POC_CVAP,low,0.49,0.6,0.4,7,7,7 WA_7_seats,POC_CVAP,low,0.5,0.6,0.4,7,7,7 WA_7_seats,POC_CVAP,low,0.51,0.6,0.4,7,7,7 WA_7_seats,POC_CVAP,low,0.52,0.6,0.4,7,7,7 WA_7_seats,POC_CVAP,low,0.53,0.6,0.4,7,7,7 "
     ]
    }
   ],
   "source": [
    "for pol in polarization_triples:\n",
    "    for c in cands:\n",
    "        for poc_cvap in poc_cvaps:\n",
    "            print(\n",
    "                \"{},{},{},{},{},{},{},{},{}\".format(\n",
    "                    city_tag, race_tag,\n",
    "                    pol[0],poc_cvap,pol[1],pol[2],c[0],c[1],c[2]\n",
    "                ), end=\" \"\n",
    "            )"
   ]
  },
  {
   "cell_type": "code",
   "execution_count": null,
   "metadata": {},
   "outputs": [],
   "source": []
  },
  {
   "cell_type": "code",
   "execution_count": null,
   "metadata": {},
   "outputs": [],
   "source": []
  }
 ],
 "metadata": {
  "kernelspec": {
   "display_name": "Python 3",
   "language": "python",
   "name": "python3"
  },
  "language_info": {
   "codemirror_mode": {
    "name": "ipython",
    "version": 3
   },
   "file_extension": ".py",
   "mimetype": "text/x-python",
   "name": "python",
   "nbconvert_exporter": "python",
   "pygments_lexer": "ipython3",
   "version": "3.7.6"
  }
 },
 "nbformat": 4,
 "nbformat_minor": 2
}
